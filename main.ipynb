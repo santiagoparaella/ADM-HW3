{
 "cells": [
  {
   "cell_type": "markdown",
   "metadata": {},
   "source": [
    "# Part: Excercise 4 - Longhest palindromic subsequent (LPS)\n",
    "\n",
    "#### For this task we use a dinamic programming tecnique based on a matrix.\n",
    "#### In this dinamic programming we want store a matrix inizially fill of zeros and then we start form the down right corner to the top of the matrix updating the matrix whit base info and calculated info.\n",
    "\n",
    "#### We adpting the followed roules during iterations (i) from bottom to top of the matrix:\n",
    "\n",
    "#### * every silgle letter is palindrominc of lenght 1\n",
    "#### * scanning string form index i to the end with index j:\n",
    "    * if string[i] == string[j]:\n",
    "        we can update our matrix because we have find two indexies of string with the same letter; This update cosists to set the LPS to the value after j plus 2; in other words we can take tha value of LPS for a string from i to j-1 and update it with +2 to obtain the LPS of a string from i to j\n",
    "        \n",
    "    * if string[i] != string[j]:\n",
    "       in this case we are not finding somenthing of palindromic; \n",
    "       We can only update our matrix with max(LPS of string from i to j-1; LPS of a string form i+1 to j); In other words the max between LPS without j-th lecter or LPS without i-th lecter.  \n",
    "\n",
    "## Excercise 4 - Analisys\n",
    "\n",
    "### The algorithm it's composed by 3 most parts:\n",
    "<ol>\n",
    "<li> line 3: creation of the matrix: this operation costs: $\\Theta(n^2) $\n",
    "<li> line 4: iteration with i over the string s: costs: $\\Theta(n)$\n",
    "<li> line 6: iteration with j over the string s: costs: $O(n)$\n",
    "</ol>\n",
    "\n",
    "#### Point 1. and 2. are consecutive then the total costs of this two lines is: $O(n^2)$\n",
    "#### Point 3. is nested into point 2. then the total cost of whole algo is $O(n^2)$\n",
    "\n",
    "#### Note - 1:\n",
    "#### line 6 costs only $O(\\frac{n}{2})$; By ignoring costants we obtain $O(n)$\n",
    "#### Note - 2:\n",
    "#### The algo can be written by using only $O(\\frac{n}{2})$ of Space. \n",
    "#### We didn't do this because we havent much time. Sorry.\n"
   ]
  },
  {
   "cell_type": "markdown",
   "metadata": {},
   "source": []
  },
  {
   "cell_type": "markdown",
   "metadata": {},
   "source": []
  },
  {
   "cell_type": "markdown",
   "metadata": {},
   "source": []
  }
 ],
 "metadata": {
  "kernelspec": {
   "display_name": "Python 3",
   "language": "python",
   "name": "python3"
  },
  "language_info": {
   "codemirror_mode": {
    "name": "ipython",
    "version": 3
   },
   "file_extension": ".py",
   "mimetype": "text/x-python",
   "name": "python",
   "nbconvert_exporter": "python",
   "pygments_lexer": "ipython3",
   "version": "3.7.4"
  }
 },
 "nbformat": 4,
 "nbformat_minor": 4
}
