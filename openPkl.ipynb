{
 "cells": [
  {
   "cell_type": "code",
   "execution_count": null,
   "metadata": {},
   "outputs": [],
   "source": [
    "import pickle\n",
    "#save a dictionary\n",
    "dic={}\n",
    "with open('path/file.pkl', 'wb') as f:\n",
    "        pickle.dump(dic, f, pickle.HIGHEST_PROTOCOL)\n",
    "\n",
    "#load from file\n",
    "voc_load={}\n",
    "with open('path/file.pkl', 'rb') as f:\n",
    "    voc_load=pickle.load(f)"
   ]
  }
 ],
 "metadata": {
  "kernelspec": {
   "display_name": "Python 3",
   "language": "python",
   "name": "python3"
  },
  "language_info": {
   "codemirror_mode": {
    "name": "ipython",
    "version": 3
   },
   "file_extension": ".py",
   "mimetype": "text/x-python",
   "name": "python",
   "nbconvert_exporter": "python",
   "pygments_lexer": "ipython3",
   "version": "3.7.4"
  }
 },
 "nbformat": 4,
 "nbformat_minor": 4
}
