{
 "cells": [
  {
   "cell_type": "code",
   "execution_count": 1,
   "metadata": {},
   "outputs": [],
   "source": [
    "import requests as req\n",
    "from bs4 import BeautifulSoup\n",
    "import random \n",
    "import time"
   ]
  },
  {
   "cell_type": "code",
   "execution_count": 3,
   "metadata": {},
   "outputs": [],
   "source": [
    "url='https://raw.githubusercontent.com/CriMenghini/ADM/master/2019/Homework_3/data/movies3.html'\n",
    "request=req.get(url)"
   ]
  },
  {
   "cell_type": "code",
   "execution_count": null,
   "metadata": {},
   "outputs": [],
   "source": [
    "soup=BeautifulSoup(request.text, 'html.parser')\n",
    "ftableS=str(soup.find_all('table'))\n",
    "table=BeautifulSoup(ftableS, 'html.parser')\n",
    "urls=table.find_all('a')\n",
    "\n",
    "i=0\n",
    "for link in urls:\n",
    "    with open(''.join(['/home/tiago/Scrivania/Libri Magistrale/1st semester/ADM/HomeWork3/PagineMovie2/article_', str(i), '.html']), 'w') as f:\n",
    "        try:\n",
    "            text=req.get(link.get('href')).text\n",
    "        except:\n",
    "            time.sleep(20*60)\n",
    "            text=req.get(link.get('href')).text\n",
    "        f.write(text)\n",
    "    time.sleep(random.randrange(1, 5))\n",
    "    i+=1\n",
    "print('finish')"
   ]
  },
  {
   "cell_type": "code",
   "execution_count": 35,
   "metadata": {},
   "outputs": [
    {
     "ename": "Exception",
     "evalue": "path must be a string! Not a <class 'int'>",
     "output_type": "error",
     "traceback": [
      "\u001b[0;31m---------------------------------------------------------------------------\u001b[0m",
      "\u001b[0;31mException\u001b[0m                                 Traceback (most recent call last)",
      "\u001b[0;32m<ipython-input-35-52ca4f01b0e4>\u001b[0m in \u001b[0;36m<module>\u001b[0;34m\u001b[0m\n\u001b[1;32m      1\u001b[0m \u001b[0;32mif\u001b[0m \u001b[0;32mTrue\u001b[0m\u001b[0;34m:\u001b[0m\u001b[0;34m\u001b[0m\u001b[0;34m\u001b[0m\u001b[0m\n\u001b[0;32m----> 2\u001b[0;31m     \u001b[0;32mraise\u001b[0m \u001b[0mException\u001b[0m\u001b[0;34m(\u001b[0m\u001b[0;34m'path must be a string! Not a {}'\u001b[0m\u001b[0;34m.\u001b[0m\u001b[0mformat\u001b[0m\u001b[0;34m(\u001b[0m\u001b[0mtype\u001b[0m\u001b[0;34m(\u001b[0m\u001b[0;36m1\u001b[0m\u001b[0;34m)\u001b[0m\u001b[0;34m)\u001b[0m\u001b[0;34m)\u001b[0m\u001b[0;34m\u001b[0m\u001b[0;34m\u001b[0m\u001b[0m\n\u001b[0m",
      "\u001b[0;31mException\u001b[0m: path must be a string! Not a <class 'int'>"
     ]
    }
   ],
   "source": [
    "if True:\n",
    "    raise Exception('path must be a string! Not a {}'.format(type(1))) "
   ]
  },
  {
   "cell_type": "code",
   "execution_count": 23,
   "metadata": {},
   "outputs": [
    {
     "name": "stdout",
     "output_type": "stream",
     "text": [
      "https://raw.githubusercontent.com/CriMenghini/ADM/master/2019/Homework_3/data/movies1.html\n",
      "https://raw.githubusercontent.com/CriMenghini/ADM/master/2019/Homework_3/data/movies2.html\n",
      "https://raw.githubusercontent.com/CriMenghini/ADM/master/2019/Homework_3/data/movies3.html\n"
     ]
    }
   ],
   "source": [
    "for i in range(1, 4, 1):\n",
    "    url='https://raw.githubusercontent.com/CriMenghini/ADM/master/2019/Homework_3/data/movies'+str(i)+'.html'"
   ]
  }
 ],
 "metadata": {
  "kernelspec": {
   "display_name": "Python 3",
   "language": "python",
   "name": "python3"
  },
  "language_info": {
   "codemirror_mode": {
    "name": "ipython",
    "version": 3
   },
   "file_extension": ".py",
   "mimetype": "text/x-python",
   "name": "python",
   "nbconvert_exporter": "python",
   "pygments_lexer": "ipython3",
   "version": "3.7.4"
  }
 },
 "nbformat": 4,
 "nbformat_minor": 4
}
